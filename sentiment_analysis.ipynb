{
 "cells": [
  {
   "cell_type": "code",
   "execution_count": 6,
   "id": "8bbfaee3",
   "metadata": {},
   "outputs": [],
   "source": [
    "# 1: Define the SentimentAnalyzer class\n",
    "from transformers import pipeline\n",
    "\n",
    "class SentimentAnalyzer:\n",
    "    def __init__(self, model_name=\"distilbert-base-uncased-finetuned-sst-2-english\"):\n",
    "        self.analyzer = pipeline(\"sentiment-analysis\", model=model_name)\n",
    "    \n",
    "    def analyze(self, text):\n",
    "        result = self.analyzer(text)[0]\n",
    "        sentiment = result['label']\n",
    "        confidence = result['score']\n",
    "        return sentiment, confidence\n"
   ]
  },
  {
   "cell_type": "code",
   "execution_count": 13,
   "id": "e1cad881",
   "metadata": {},
   "outputs": [],
   "source": [
    "# 2: Define the UserInputHandler class\n",
    "class UserInputHandler:\n",
    "    @staticmethod\n",
    "    def get_user_input():\n",
    "        return input(\"How have you been feeling lately?\")\n"
   ]
  },
  {
   "cell_type": "code",
   "execution_count": 15,
   "id": "c5e0c225",
   "metadata": {},
   "outputs": [],
   "source": [
    "# 3: Define the SentimentAnalysisApp class\n",
    "class SentimentAnalysisApp:\n",
    "    def __init__(self):\n",
    "        self.analyzer = SentimentAnalyzer()\n",
    "    \n",
    "    def run(self):\n",
    "        input_text = UserInputHandler.get_user_input()\n",
    "        sentiment, confidence = self.analyzer.analyze(input_text)\n",
    "        self.display_results(input_text, sentiment, confidence)\n",
    "    \n",
    "    @staticmethod\n",
    "    def display_results(input_text, sentiment, confidence):\n",
    "        print(f\"\\nInput Text: {input_text}\")\n",
    "        print(f\"category: {sentiment}\")\n",
    "        print(f\"Accuracy Score: {confidence:.4f}\")\n"
   ]
  },
  {
   "cell_type": "code",
   "execution_count": 16,
   "id": "d38c8960",
   "metadata": {},
   "outputs": [
    {
     "name": "stdout",
     "output_type": "stream",
     "text": [
      "How have you been feeling lately?better but not so good\n",
      "\n",
      "Input Text: better but not so good\n",
      "category: NEGATIVE\n",
      "Accuracy Score: 0.9941\n"
     ]
    }
   ],
   "source": [
    "# 4: Run the application\n",
    "app = SentimentAnalysisApp()\n",
    "app.run()\n"
   ]
  }
 ],
 "metadata": {
  "kernelspec": {
   "display_name": "Python 3 (ipykernel)",
   "language": "python",
   "name": "python3"
  },
  "language_info": {
   "codemirror_mode": {
    "name": "ipython",
    "version": 3
   },
   "file_extension": ".py",
   "mimetype": "text/x-python",
   "name": "python",
   "nbconvert_exporter": "python",
   "pygments_lexer": "ipython3",
   "version": "3.11.5"
  }
 },
 "nbformat": 4,
 "nbformat_minor": 5
}
